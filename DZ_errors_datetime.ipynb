{
 "cells": [
  {
   "cell_type": "code",
   "execution_count": 2,
   "metadata": {},
   "outputs": [
    {
     "name": "stdout",
     "output_type": "stream",
     "text": [
      "The Moscow Times 2002-10-02 00:00:00\n",
      "The Guardian 2013-10-11 00:00:00\n",
      "Daily News 1977-08-18 00:00:00\n"
     ]
    }
   ],
   "source": [
    "papers=['The Moscow Times - Wednesday, October 2, 2002'\n",
    ",'The Guardian - Friday, 11.10.13'\n",
    ",'Daily News - Thursday, 18 August 1977']\n",
    "\n",
    "from datetime import datetime\n",
    "formats = {'The Moscow Times':'%A, %B %d, %Y','The Guardian':'%A, %d.%m.%y','Daily News':'%A, %d %B %Y'}\n",
    "for line in papers:\n",
    "    paper,paper_date = line.split(' - ')\n",
    "    print(paper,datetime.strptime(paper_date,formats[paper]))\n"
   ]
  },
  {
   "cell_type": "code",
   "execution_count": 3,
   "metadata": {},
   "outputs": [
    {
     "data": {
      "text/plain": [
       "{'2018-04-02': True, '2018-02-29': False, '2018-19-02': False}"
      ]
     },
     "execution_count": 3,
     "metadata": {},
     "output_type": "execute_result"
    }
   ],
   "source": [
    "stream = ['2018-04-02', '2018-02-29', '2018-19-02']\n",
    "\n",
    "def check_date(dates):\n",
    "    res = True\n",
    "    check_result = {}\n",
    "    for value in dates:\n",
    "        try: \n",
    "            datetime.strptime(value,'%Y-%m-%d')\n",
    "            check_result[value] = res\n",
    "        except:\n",
    "            res = False\n",
    "            check_result[value] = res\n",
    "    return check_result\n",
    "\n",
    "check_date(stream)       "
   ]
  },
  {
   "cell_type": "code",
   "execution_count": 7,
   "metadata": {},
   "outputs": [
    {
     "name": "stdout",
     "output_type": "stream",
     "text": [
      "Введите начальную дату:22.04.20\n",
      "Введите конечную дату:23.04.20\n"
     ]
    },
    {
     "data": {
      "text/plain": [
       "[]"
      ]
     },
     "execution_count": 7,
     "metadata": {},
     "output_type": "execute_result"
    }
   ],
   "source": [
    "from datetime import timedelta\n",
    "\n",
    "def dates_range(start_date,end_date):\n",
    "    #start_date = input('Введите начальную дату:')\n",
    "    #end_date = input('Введите конечную дату:')\n",
    "    dates_list = []\n",
    "    try:\n",
    "        start = datetime.strptime(start_date,'%Y-%m-%d')\n",
    "        end = datetime.strptime(end_date,'%Y-%m-%d')\n",
    "        date_ = start\n",
    "        while date_<= end:\n",
    "            dates_list.append(datetime.strftime(date_,'%Y-%m-%d'))\n",
    "            date_ += timedelta(days = 1)\n",
    "    except:\n",
    "        dates_list = []\n",
    "    #print(dates_list)\n",
    "    return dates_list\n",
    "dates_range(start_date = input('Введите начальную дату:'),end_date = input('Введите конечную дату:'))"
   ]
  },
  {
   "cell_type": "code",
   "execution_count": 18,
   "metadata": {},
   "outputs": [],
   "source": [
    "DEFAULT_USER_COUNT = 3\n",
    "\n",
    "def delete_and_return_last_user(region, default_list=['A100', 'A101', 'A102']):\n",
    "\n",
    "    element_to_delete = default_list[-1]\n",
    "    default_list.remove(element_to_delete)\n",
    "\n",
    "    \n",
    "    return default_list[DEFAULT_USER_COUNT-2]\n",
    "\n",
    "#При однократном вызове этой функции все работает корректно:\n",
    "#Однако, при повторном вызове получается ошибка IndexError: list index out of range.\n",
    "#Задание:\n",
    "#1.Что значит ошибка list index out of range?\n",
    "#2.Почему при первом запуске функция работает корректно, а при втором - нет?\n"
   ]
  },
  {
   "cell_type": "code",
   "execution_count": 20,
   "metadata": {},
   "outputs": [
    {
     "ename": "IndexError",
     "evalue": "list index out of range",
     "output_type": "error",
     "traceback": [
      "\u001b[1;31m---------------------------------------------------------------------------\u001b[0m",
      "\u001b[1;31mIndexError\u001b[0m                                Traceback (most recent call last)",
      "\u001b[1;32m<ipython-input-20-bfb6c4f8c48e>\u001b[0m in \u001b[0;36m<module>\u001b[1;34m\u001b[0m\n\u001b[1;32m----> 1\u001b[1;33m \u001b[0mdelete_and_return_last_user\u001b[0m\u001b[1;33m(\u001b[0m\u001b[1;36m1\u001b[0m\u001b[1;33m)\u001b[0m\u001b[1;33m\u001b[0m\u001b[1;33m\u001b[0m\u001b[0m\n\u001b[0m",
      "\u001b[1;32m<ipython-input-18-2208e4e2c79d>\u001b[0m in \u001b[0;36mdelete_and_return_last_user\u001b[1;34m(region, default_list)\u001b[0m\n\u001b[0;32m      7\u001b[0m \u001b[1;33m\u001b[0m\u001b[0m\n\u001b[0;32m      8\u001b[0m \u001b[1;33m\u001b[0m\u001b[0m\n\u001b[1;32m----> 9\u001b[1;33m     \u001b[1;32mreturn\u001b[0m \u001b[0mdefault_list\u001b[0m\u001b[1;33m[\u001b[0m\u001b[0mDEFAULT_USER_COUNT\u001b[0m\u001b[1;33m-\u001b[0m\u001b[1;36m2\u001b[0m\u001b[1;33m]\u001b[0m\u001b[1;33m\u001b[0m\u001b[1;33m\u001b[0m\u001b[0m\n\u001b[0m\u001b[0;32m     10\u001b[0m \u001b[1;33m\u001b[0m\u001b[0m\n\u001b[0;32m     11\u001b[0m \u001b[1;31m#При однократном вызове этой функции все работает корректно:\u001b[0m\u001b[1;33m\u001b[0m\u001b[1;33m\u001b[0m\u001b[1;33m\u001b[0m\u001b[0m\n",
      "\u001b[1;31mIndexError\u001b[0m: list index out of range"
     ]
    }
   ],
   "source": [
    "delete_and_return_last_user(1)"
   ]
  },
  {
   "cell_type": "markdown",
   "metadata": {},
   "source": [
    "Ответ к заданию 4:\n",
    "1. Ошибка означает, что была попытка обратиться к индексу списка за пределами его диапазона\n",
    "2. После второго вызова функции в списке остается один элемент с индексом 0, обратиться к элементу с индексом 1 уже невозможно, его нет."
   ]
  }
 ],
 "metadata": {
  "kernelspec": {
   "display_name": "Python 3",
   "language": "python",
   "name": "python3"
  },
  "language_info": {
   "codemirror_mode": {
    "name": "ipython",
    "version": 3
   },
   "file_extension": ".py",
   "mimetype": "text/x-python",
   "name": "python",
   "nbconvert_exporter": "python",
   "pygments_lexer": "ipython3",
   "version": "3.8.5"
  }
 },
 "nbformat": 4,
 "nbformat_minor": 4
}
