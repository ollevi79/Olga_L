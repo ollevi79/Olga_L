{
 "cells": [
  {
   "cell_type": "markdown",
   "metadata": {},
   "source": [
    "### Домашнее задание \"Линейная алгебра. Векторы\".        \n",
    "Даны вектора x = (1,1), y = (2, 0) и z = (0,2)          \n",
    "\n",
    "Надо:     \n",
    "\n",
    "Изобразить вектора на экране           \n",
    "Изобразить точку x + y + z          \n",
    "Найти угол между векторами x и y          "
   ]
  },
  {
   "cell_type": "code",
   "execution_count": 1,
   "metadata": {},
   "outputs": [],
   "source": [
    "import numpy as np\n",
    "from numpy import linalg\n",
    "import matplotlib.pyplot as plt\n",
    "import math"
   ]
  },
  {
   "cell_type": "code",
   "execution_count": 2,
   "metadata": {},
   "outputs": [],
   "source": [
    "x = np.array([1,1])\n",
    "y = np.array([2,0])\n",
    "z = np.array([0,2])"
   ]
  },
  {
   "cell_type": "code",
   "execution_count": 5,
   "metadata": {},
   "outputs": [
    {
     "data": {
      "image/png": "[encoded data removed]",
      "text/plain": [
       "<Figure size 432x288 with 1 Axes>"
      ]
     },
     "metadata": {
      "needs_background": "light"
     },
     "output_type": "display_data"
    }
   ],
   "source": [
    "V = np.array([x,y,z])\n",
    "plt.quiver([0,0,0],[0,0,0],[x[0],y[0],z[0]],[x[1],y[1],z[1]],color=('r','g','b'), angles='xy', scale_units='xy', scale=1)\n",
    "plt.xlim(-1, 4)\n",
    "plt.ylim(-1, 4)\n",
    "plt.show()\n"
   ]
  },
  {
   "cell_type": "code",
   "execution_count": 8,
   "metadata": {},
   "outputs": [
    {
     "data": {
      "text/plain": [
       "array([3, 3])"
      ]
     },
     "execution_count": 8,
     "metadata": {},
     "output_type": "execute_result"
    }
   ],
   "source": [
    "s=x+y+z\n",
    "s"
   ]
  },
  {
   "cell_type": "code",
   "execution_count": 15,
   "metadata": {},
   "outputs": [
    {
     "data": {
      "image/png": "[encoded data removed]",
      "text/plain": [
       "<Figure size 432x288 with 1 Axes>"
      ]
     },
     "metadata": {
      "needs_background": "light"
     },
     "output_type": "display_data"
    }
   ],
   "source": [
    "plt.quiver([0,0,0],[0,0,0],[x[0],y[0],z[0]],[x[1],y[1],z[1]],color=('r','g','b'),angles='xy', scale_units='xy', scale=1)\n",
    "plt.plot(s[0],s[1],'o')\n",
    "plt.xlim(-1, 4)\n",
    "plt.ylim(-1, 4)\n",
    "plt.show()"
   ]
  },
  {
   "cell_type": "code",
   "execution_count": 18,
   "metadata": {},
   "outputs": [
    {
     "name": "stdout",
     "output_type": "stream",
     "text": [
      "Угол между векторами x и y: 45 °\n"
     ]
    }
   ],
   "source": [
    "xLength = np.linalg.norm( x )\n",
    "yLength = np.linalg.norm( y )\n",
    "    \n",
    "cos = np.dot( x, y ) / ( xLength * yLength )\n",
    "angle = math.degrees(math.acos(cos))\n",
    "print('Угол между векторами x и y:',round(angle),'°')"
   ]
  }
 ],
 "metadata": {
  "kernelspec": {
   "display_name": "Python 3",
   "language": "python",
   "name": "python3"
  },
  "language_info": {
   "codemirror_mode": {
    "name": "ipython",
    "version": 3
   },
   "file_extension": ".py",
   "mimetype": "text/x-python",
   "name": "python",
   "nbconvert_exporter": "python",
   "pygments_lexer": "ipython3",
   "version": "3.8.5"
  }
 },
 "nbformat": 4,
 "nbformat_minor": 4
}
