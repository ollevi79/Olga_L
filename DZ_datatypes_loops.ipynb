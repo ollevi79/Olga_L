{
 "cells": [
  {
   "cell_type": "code",
   "execution_count": 1,
   "metadata": {},
   "outputs": [
    {
     "name": "stdout",
     "output_type": "stream",
     "text": [
      "['r', 'i']\n"
     ]
    }
   ],
   "source": [
    "str='string'\n",
    "str_l=list(str)\n",
    "str_len=len(str)\n",
    "if str_len%2!=0:\n",
    "    i=int(str_len//2)\n",
    "    print(str_l[i])\n",
    "else:\n",
    "    i=int(str_len/2)+1\n",
    "    j=i-2\n",
    "    print(str_l[j:i])"
   ]
  },
  {
   "cell_type": "code",
   "execution_count": 2,
   "metadata": {},
   "outputs": [
    {
     "name": "stdout",
     "output_type": "stream",
     "text": [
      "Введите число: 9\n",
      "Введите число: 8\n",
      "Введите число: 7\n",
      "Введите число: 0\n",
      "24\n"
     ]
    }
   ],
   "source": [
    "a=list()\n",
    "\n",
    "while True: \n",
    "    i=int(input('Введите число: '))\n",
    "    a.append(i)\n",
    "    if i==0:\n",
    "        break\n",
    "    \n",
    "print(sum(a))\n",
    "    \n",
    "#else: break"
   ]
  },
  {
   "cell_type": "code",
   "execution_count": 3,
   "metadata": {},
   "outputs": [
    {
     "name": "stdout",
     "output_type": "stream",
     "text": [
      "Идеальные пары:\n",
      "Alex и Emma\n",
      "Arthur и Kate\n",
      "John и Kira\n",
      "Peter и Liza\n",
      "Richard и Trisha\n"
     ]
    }
   ],
   "source": [
    "boys = ['Peter', 'Alex', 'John', 'Arthur','Richard']\n",
    "girls = ['Kate', 'Liza', 'Kira', 'Emma', 'Trisha']\n",
    "len_b=len(boys)\n",
    "len_g=len(girls)\n",
    "if len_b==len_g:\n",
    "    boys_s=sorted(boys)\n",
    "    girls_s=sorted(girls)\n",
    "    match=zip(boys_s,girls_s)\n",
    "    out=list(match)\n",
    "    print('Идеальные пары:')\n",
    "    for i in range(len_b):\n",
    "        print(' и '.join(out[i]))\n",
    "else: print('Внимание! Кто-то может остаться без пары')"
   ]
  },
  {
   "cell_type": "code",
   "execution_count": 5,
   "metadata": {},
   "outputs": [
    {
     "name": "stdout",
     "output_type": "stream",
     "text": [
      "Thailand - 23.9 C\n",
      "Germany - 13.8 C\n",
      "Russia - 3.7 C\n",
      "Poland - 12.0 C\n"
     ]
    }
   ],
   "source": [
    "ctry_t=[['Thailand',[75.2,77,78.8,73.4,68,75.2,77]],\n",
    "        ['Germany',[57.2,55.4,59,59,53.6]],\n",
    "        ['Russia',[35.6,37.4,39.2,41,42.8,39.2,35.6]],\n",
    "       ['Poland',[50,50,53.6,57.2,55.4,55.4]]]\n",
    "for item in ctry_t:\n",
    "    avg_t=round((sum(item[1])/len(item[1])-32)/1.8,1)\n",
    "    out=f'{item[0]} - {avg_t} C'\n",
    "    print(out)"
   ]
  },
  {
   "cell_type": "code",
   "execution_count": 6,
   "metadata": {},
   "outputs": [
    {
     "name": "stdout",
     "output_type": "stream",
     "text": [
      "Среднее количество просмотров на уникального пользователя:  16.25\n"
     ]
    }
   ],
   "source": [
    "stream=['2018-01-01,user1,3'\n",
    "        ,'2018-01-07,user1,4'\n",
    "        ,'2018-03-29,user1,1'\n",
    "       ,'2018-04-04,user1,13'\n",
    "       ,'2018-01-05,user2,7'\n",
    "       ,'2018-06-14,user3,4'\n",
    "       ,'2018-07-02,user3,10'\n",
    "       ,'2018-03-21,user4,19'\n",
    "       ,'2018-03-22,user4,4']\n",
    "users=list()\n",
    "views=list()\n",
    "for element in stream:\n",
    "    stream_el = element.split(',')\n",
    "    users.append(stream_el[1])\n",
    "    views.append(int(stream_el[2]))\n",
    "\n",
    "users_s=set(users)\n",
    "un=len(users_s)\n",
    "\n",
    "print('Среднее количество просмотров на уникального пользователя: ',sum(views)/un)\n"
   ]
  },
  {
   "cell_type": "code",
   "execution_count": 7,
   "metadata": {},
   "outputs": [
    {
     "name": "stdout",
     "output_type": "stream",
     "text": [
      "9 8 6 4 2 1 9 7 5 2 1 1\n",
      "9 2 1\n"
     ]
    }
   ],
   "source": [
    "string_in=input()\n",
    "string=string_in.replace(' ','')\n",
    "f_list=list(string)\n",
    "new_list=list()\n",
    "for el in f_list:\n",
    "    i=f_list.count(el)\n",
    "    if i>1: new_list.append(el) \n",
    "s=set(new_list)\n",
    "print(' '.join(s))\n"
   ]
  }
 ],
 "metadata": {
  "kernelspec": {
   "display_name": "Python 3",
   "language": "python",
   "name": "python3"
  },
  "language_info": {
   "codemirror_mode": {
    "name": "ipython",
    "version": 3
   },
   "file_extension": ".py",
   "mimetype": "text/x-python",
   "name": "python",
   "nbconvert_exporter": "python",
   "pygments_lexer": "ipython3",
   "version": "3.8.5"
  }
 },
 "nbformat": 4,
 "nbformat_minor": 4
}
