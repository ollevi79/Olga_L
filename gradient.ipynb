{
 "cells": [
  {
   "cell_type": "code",
   "execution_count": 44,
   "metadata": {},
   "outputs": [],
   "source": [
    "import numpy as np"
   ]
  },
  {
   "cell_type": "markdown",
   "metadata": {},
   "source": [
    "Уровень 0:  \n",
    "Посчитайте частные производные функций:\n",
    "\n",
    "1) $f(x,y)=2x^2y^3 + 1/x + y^2x + 7$, а для этой функции также градиент в точке $(1,2)$\n",
    "\n",
    "2) $f(x,y)=x^2y - sin(xy) + cos(x^2) + 6y$\n",
    "\n"
   ]
  },
  {
   "cell_type": "code",
   "execution_count": 45,
   "metadata": {},
   "outputs": [
    {
     "name": "stdout",
     "output_type": "stream",
     "text": [
      "4*x*y**3 + y**2 - 1/x**2\n",
      "6*x**2*y**2 + 2*x*y\n"
     ]
    }
   ],
   "source": [
    "from sympy import * \n",
    "x, y = symbols('x y')\n",
    "print(diff(2*x**2*y**3 + 1/x + y**2*x + 7,x))\n",
    "print(diff(2*x**2*y**3 + 1/x + y**2*x + 7,y))"
   ]
  },
  {
   "cell_type": "code",
   "execution_count": 46,
   "metadata": {},
   "outputs": [
    {
     "data": {
      "text/plain": [
       "array([35.00000024, 28.00000273])"
      ]
     },
     "execution_count": 46,
     "metadata": {},
     "output_type": "execute_result"
    }
   ],
   "source": [
    "from scipy import optimize\n",
    "def func(x, c0, c1, c2):\n",
    "    return c0*x[0]**2*x[1]**3 + c1/x[0] + x[1]**2*x[0] + c2\n",
    "x = np.array([1,2])\n",
    "eps = np.sqrt(np.finfo(float).eps)\n",
    "c0=2\n",
    "c1=1\n",
    "c2=7\n",
    "optimize.approx_fprime(x, func, [eps, np.sqrt(200) * eps], c0, c1, c2)"
   ]
  },
  {
   "cell_type": "code",
   "execution_count": 48,
   "metadata": {},
   "outputs": [
    {
     "name": "stdout",
     "output_type": "stream",
     "text": [
      "2*x*y - 2*x*sin(x**2) - y*cos(x*y)\n",
      "x**2 - x*cos(x*y) + 6\n"
     ]
    }
   ],
   "source": [
    "x, y = symbols('x y')\n",
    "print(diff(x**2*y - sin(x*y) + cos(x**2) + 6*y,x))\n",
    "print(diff(x**2*y - sin(x*y) + cos(x**2) + 6*y,y))"
   ]
  },
  {
   "cell_type": "markdown",
   "metadata": {},
   "source": [
    "Уровень 1:        \n",
    "Градиентный спуск своими руками:"
   ]
  },
  {
   "cell_type": "code",
   "execution_count": 49,
   "metadata": {},
   "outputs": [],
   "source": [
    "def f(x):\n",
    "    return (x[0]**2) + (x[1]**2)"
   ]
  },
  {
   "cell_type": "code",
   "execution_count": 50,
   "metadata": {},
   "outputs": [],
   "source": [
    "x = np.array([100, 200])\n",
    "learning_rate = 0.1"
   ]
  },
  {
   "cell_type": "code",
   "execution_count": 51,
   "metadata": {},
   "outputs": [],
   "source": [
    "for i in range(100):\n",
    "    # Calculate gradient\n",
    "    grad = np.array([2*x[0],2*x[1]]) # Your code here (функция для вычисления градиента есть в лекционном ноутбуке)\n",
    "    \n",
    "    # Update x with gradient\n",
    "    x = x - learning_rate*grad # Your code here (смотри слайд презентации про градиентный спуск)\n",
    "    "
   ]
  },
  {
   "cell_type": "code",
   "execution_count": 39,
   "metadata": {},
   "outputs": [
    {
     "name": "stdout",
     "output_type": "stream",
     "text": [
      "Минимум достигается в:  [0, 0]\n",
      "Значение функции в минимуме:  0\n"
     ]
    }
   ],
   "source": [
    "print(\"Минимум достигается в: \", [round(x[0]),round(x[1])])\n",
    "print(\"Значение функции в минимуме: \", round(f(x)))"
   ]
  },
  {
   "cell_type": "markdown",
   "metadata": {},
   "source": [
    "Проверка с помощью встроенной функции numpy:"
   ]
  },
  {
   "cell_type": "code",
   "execution_count": 7,
   "metadata": {},
   "outputs": [
    {
     "name": "stdout",
     "output_type": "stream",
     "text": [
      "Optimization terminated successfully.\n",
      "         Current function value: 0.000000\n",
      "         Iterations: 85\n",
      "         Function evaluations: 164\n"
     ]
    }
   ],
   "source": [
    "from scipy.optimize import minimize\n",
    "res = minimize(f,x,method='nelder-mead',options={'xtol':1e-8,'disp':True})"
   ]
  }
 ],
 "metadata": {
  "kernelspec": {
   "display_name": "Python 3",
   "language": "python",
   "name": "python3"
  },
  "language_info": {
   "codemirror_mode": {
    "name": "ipython",
    "version": 3
   },
   "file_extension": ".py",
   "mimetype": "text/x-python",
   "name": "python",
   "nbconvert_exporter": "python",
   "pygments_lexer": "ipython3",
   "version": "3.8.5"
  }
 },
 "nbformat": 4,
 "nbformat_minor": 4
}
