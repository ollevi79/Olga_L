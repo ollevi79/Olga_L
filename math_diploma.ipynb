{
 "cells": [
  {
   "cell_type": "markdown",
   "metadata": {},
   "source": [
    "# Итоговая работа, математика"
   ]
  },
  {
   "cell_type": "code",
   "execution_count": 1,
   "metadata": {},
   "outputs": [],
   "source": [
    "import matplotlib.pyplot as plt\n",
    "import numpy as np\n",
    "\n",
    "from scipy.optimize import minimize\n",
    "%matplotlib inline"
   ]
  },
  {
   "cell_type": "markdown",
   "metadata": {},
   "source": [
    "### Задание 1    \n",
    "\n",
    "Дана матрица рейтингов фильмов (строки - пользователи (10 человек), столбцы - фильмы (15 фильмов))\n"
   ]
  },
  {
   "cell_type": "code",
   "execution_count": 2,
   "metadata": {},
   "outputs": [],
   "source": [
    "raitings = np.array([[ 4,  4,  9,  4,  1,  6, 10,  7,  9,  6,  9,  2,  8,  6,  6],\n",
    "                     [ 9,  2,  5, 10,  7,  8, 10,  5,  6,  2,  1,  6,  8,  9,  7],\n",
    "                     [ 1,  6,  8,  8,  4,  9,  3,  8, 10,  5,  2,  6,  8,  1,  6],\n",
    "                     [ 6,  1,  9,  7,  7,  9,  2,  3,  5,  1,  6,  6,  3,  2,  7],\n",
    "                     [ 3,  7,  3,  5,  7,  9,  9,  6,  2,  9,  1,  2,  8, 10,  6],\n",
    "                     [ 8,  3,  7,  3,  8,  6,  1,  8,  8,  6,  1,  9,  4, 10,  1],\n",
    "                     [ 9,  8,  4,  8,  8, 10,  6,  1,  1,  2,  9,  5,  2,  7,  2],\n",
    "                     [ 4,  1,  6,  4,  3, 10,  4,  4,  2,  8,  7,  9,  3,  8,  3],\n",
    "                     [ 2,  7,  7,  6, 10,  6,  8,  9,  8,  6, 10,  1,  7, 10,  4],\n",
    "                     [ 5, 10,  8,  8,  9,  7,  2,  9,  9, 10,  8,  8,  8,  6, 10]])\n"
   ]
  },
  {
   "cell_type": "markdown",
   "metadata": {},
   "source": [
    "a) Необходимо найти наиболее похожего пользователя по косинусной метрике для каждого из (ответ: 10 пар вида (x, y), где y - наиболее похожий пользователь на пользователя x).\n"
   ]
  },
  {
   "cell_type": "code",
   "execution_count": 6,
   "metadata": {},
   "outputs": [],
   "source": [
    "def cosine( a, b ):\n",
    "    aLength = np.linalg.norm( a )\n",
    "    bLength = np.linalg.norm( b )\n",
    "    \n",
    "    return np.dot( a, b ) / ( aLength * bLength )"
   ]
  },
  {
   "cell_type": "code",
   "execution_count": 7,
   "metadata": {},
   "outputs": [
    {
     "name": "stdout",
     "output_type": "stream",
     "text": [
      "1 pair:\n",
      "[ 4  4  9  4  1  6 10  7  9  6  9  2  8  6  6]\n",
      "[ 4  1  6  4  3 10  4  4  2  8  7  9  3  8  3]\n",
      "2 pair:\n",
      "[ 9  2  5 10  7  8 10  5  6  2  1  6  8  9  7]\n",
      "[6 1 9 7 7 9 2 3 5 1 6 6 3 2 7]\n",
      "3 pair:\n",
      "[ 1  6  8  8  4  9  3  8 10  5  2  6  8  1  6]\n",
      "[ 2  7  7  6 10  6  8  9  8  6 10  1  7 10  4]\n",
      "4 pair:\n",
      "[6 1 9 7 7 9 2 3 5 1 6 6 3 2 7]\n",
      "[ 2  7  7  6 10  6  8  9  8  6 10  1  7 10  4]\n",
      "5 pair:\n",
      "[ 3  7  3  5  7  9  9  6  2  9  1  2  8 10  6]\n",
      "[ 4  1  6  4  3 10  4  4  2  8  7  9  3  8  3]\n",
      "6 pair:\n",
      "[ 8  3  7  3  8  6  1  8  8  6  1  9  4 10  1]\n",
      "[ 2  7  7  6 10  6  8  9  8  6 10  1  7 10  4]\n",
      "7 pair:\n",
      "[ 9  8  4  8  8 10  6  1  1  2  9  5  2  7  2]\n",
      "[6 1 9 7 7 9 2 3 5 1 6 6 3 2 7]\n",
      "8 pair:\n",
      "[ 4  1  6  4  3 10  4  4  2  8  7  9  3  8  3]\n",
      "[ 8  3  7  3  8  6  1  8  8  6  1  9  4 10  1]\n",
      "9 pair:\n",
      "[ 2  7  7  6 10  6  8  9  8  6 10  1  7 10  4]\n",
      "[ 4  4  9  4  1  6 10  7  9  6  9  2  8  6  6]\n",
      "10 pair:\n",
      "[ 5 10  8  8  9  7  2  9  9 10  8  8  8  6 10]\n",
      "[ 1  6  8  8  4  9  3  8 10  5  2  6  8  1  6]\n"
     ]
    }
   ],
   "source": [
    "for i in range(10):\n",
    "    a = raitings[i]\n",
    "    cosinuses = []\n",
    "    for j in range(10):\n",
    "        if i != j:\n",
    "            cosinuses.append(cosine(a,raitings[j]))\n",
    "    print(i+1,'pair:')\n",
    "    print(a)\n",
    "    print(raitings[cosinuses.index(max(cosinuses))])"
   ]
  },
  {
   "cell_type": "markdown",
   "metadata": {},
   "source": [
    "b) Предположим, вы захотели сжать признаковые описания пользователя с 15 фильмов, до, скажем, 5-ти признаков, как вы это сделаете?"
   ]
  },
  {
   "cell_type": "code",
   "execution_count": 9,
   "metadata": {},
   "outputs": [
    {
     "name": "stdout",
     "output_type": "stream",
     "text": [
      "[[23.41982063 -5.36092136  3.83196779 -4.06950174  1.10267269]\n",
      " [24.76774917  4.52188701  1.35815965  1.58128545  8.59912002]\n",
      " [22.27728589 -6.96492049 -4.84461485 -0.47661647  3.37152266]\n",
      " [19.4257757   2.64575227 -6.86014009 -4.76604765  1.96075707]\n",
      " [22.8146354   0.51464093  7.70180188  4.42379773  1.29124163]\n",
      " [21.76961656  1.94294987 -4.56934779  8.32306487 -2.21887359]\n",
      " [21.23427453  9.78047778  1.16340271 -4.86074521 -2.60815471]\n",
      " [19.97476815  4.00048677 -1.67456316  1.1512346  -3.5637169 ]\n",
      " [26.39306998 -3.03090482  5.86422753 -1.67503491 -3.71500141]\n",
      " [29.94016844 -4.82012297 -3.48912415  0.05527083 -3.62526487]]\n"
     ]
    }
   ],
   "source": [
    "from sklearn.decomposition import TruncatedSVD\n",
    "svd = TruncatedSVD(n_components=5, n_iter=7, random_state=42)\n",
    "svd.fit(raitings)\n",
    "svd.transform(raitings)\n",
    "print(svd.transform(raitings))"
   ]
  },
  {
   "cell_type": "markdown",
   "metadata": {},
   "source": [
    "### Задание 2      \n",
    "Вычислите производную $tg^2(sin(x) + cos(2x+3))$ в точке $x_0=1$ (на python и на бумаге)."
   ]
  },
  {
   "cell_type": "code",
   "execution_count": 11,
   "metadata": {},
   "outputs": [],
   "source": [
    "from scipy.misc import derivative\n",
    "from sympy import *\n",
    "import numpy as np"
   ]
  },
  {
   "cell_type": "code",
   "execution_count": 14,
   "metadata": {},
   "outputs": [
    {
     "name": "stdout",
     "output_type": "stream",
     "text": [
      "55.3859176464222\n"
     ]
    }
   ],
   "source": [
    "x = symbols('x')\n",
    "\n",
    "def f(x):\n",
    "    return np.tan(np.sin(x) + np.cos(2*x+3))**2\n",
    "\n",
    "print(derivative(f, 1.0, dx=1e-6, n=1))\n"
   ]
  },
  {
   "cell_type": "code",
   "execution_count": 15,
   "metadata": {},
   "outputs": [
    {
     "name": "stdout",
     "output_type": "stream",
     "text": [
      "55.385917635337854\n"
     ]
    }
   ],
   "source": [
    "a = 2*(-2*np.sin(2*1 + 3) + np.cos(1))*(np.tan(np.sin(1) + np.cos(2*1 + 3))**2 + 1)*np.tan(np.sin(1) + np.cos(2*1 + 3))\n",
    "print(a)"
   ]
  },
  {
   "cell_type": "markdown",
   "metadata": {},
   "source": [
    "### Задание 3   \n",
    "Дана функция с неизвестными параметрами a и b, вам также известны значения функции fx в точках x. \n",
    "Найдите оптимальные параметры a, b, минимизирующие абсолютную ошибку error"
   ]
  },
  {
   "cell_type": "code",
   "execution_count": 16,
   "metadata": {},
   "outputs": [],
   "source": [
    "def f(x, a, b):\n",
    "    return np.e**a * np.sin(b*x) + x\n"
   ]
  },
  {
   "cell_type": "code",
   "execution_count": 17,
   "metadata": {},
   "outputs": [],
   "source": [
    "x = np.array([0.        , 0.26315789, 0.52631579, 0.78947368, 1.05263158,\n",
    "              1.31578947, 1.57894737, 1.84210526, 2.10526316, 2.36842105,\n",
    "              2.63157895, 2.89473684, 3.15789474, 3.42105263, 3.68421053,\n",
    "              3.94736842, 4.21052632, 4.47368421, 4.73684211, 5.        ])\n"
   ]
  },
  {
   "cell_type": "code",
   "execution_count": 18,
   "metadata": {},
   "outputs": [],
   "source": [
    "fx = np.array([  0.        , -12.01819092, -18.90968634, -17.68786571,\n",
    "                -8.7529108 ,   4.27524517,  16.06801336,  21.81250213,\n",
    "                19.22059845,   9.48411207,  -3.22273056, -13.48576488,\n",
    "               -16.91096359, -11.95866834,  -0.58630088,  12.56873816,\n",
    "                22.12489421,  24.20292139,  18.04522521,   6.33211092])\n"
   ]
  },
  {
   "cell_type": "code",
   "execution_count": 19,
   "metadata": {},
   "outputs": [
    {
     "data": {
      "image/png": "[encoded data removed]",
      "text/plain": [
       "<Figure size 432x288 with 1 Axes>"
      ]
     },
     "metadata": {
      "needs_background": "light"
     },
     "output_type": "display_data"
    }
   ],
   "source": [
    "plt.plot(x, fx)\n",
    "plt.show()"
   ]
  },
  {
   "cell_type": "code",
   "execution_count": 20,
   "metadata": {},
   "outputs": [],
   "source": [
    "def error(params):\n",
    "    return np.sum(np.abs(fx - f(x, params[0], params[1])))\n"
   ]
  },
  {
   "cell_type": "code",
   "execution_count": 21,
   "metadata": {},
   "outputs": [
    {
     "name": "stdout",
     "output_type": "stream",
     "text": [
      "     fun: 0.0767456611156554\n",
      "   maxcv: 0.0\n",
      " message: 'Optimization terminated successfully.'\n",
      "    nfev: 135\n",
      "  status: 1\n",
      " success: True\n",
      "       x: array([ 3.00018796, -2.50008926])\n"
     ]
    }
   ],
   "source": [
    "starting_values = [0,0]\n",
    "res = minimize(error, starting_values, method='COBYLA')\n",
    "print(res)"
   ]
  },
  {
   "cell_type": "code",
   "execution_count": 22,
   "metadata": {},
   "outputs": [
    {
     "data": {
      "text/plain": [
       "array([  0.        , -12.02087275, -18.91357793, -17.69078403,\n",
       "        -8.7531066 ,   4.27813496,  16.07269773,  21.81660902,\n",
       "        19.22183973,   9.48147808,  -3.22834498, -13.49184736,\n",
       "       -16.91450456, -11.95761308,  -0.58064785,  12.57675129,\n",
       "        22.13167493,  24.20512418,  18.04136366,   6.32341507])"
      ]
     },
     "execution_count": 22,
     "metadata": {},
     "output_type": "execute_result"
    }
   ],
   "source": [
    "f(x, 3.00018796, -2.50008926)"
   ]
  },
  {
   "cell_type": "code",
   "execution_count": 23,
   "metadata": {},
   "outputs": [
    {
     "data": {
      "image/png": "[encoded data removed]",
      "text/plain": [
       "<Figure size 432x288 with 1 Axes>"
      ]
     },
     "metadata": {
      "needs_background": "light"
     },
     "output_type": "display_data"
    }
   ],
   "source": [
    "plt.plot(x, f(x, 3.00018796, -2.50008926))\n",
    "plt.show()"
   ]
  },
  {
   "cell_type": "markdown",
   "metadata": {},
   "source": [
    "### Задание 4     \n",
    "Создайте собственную дискретную случайную величину с 20 значениями. Сгенерируйте 1000 выборок размера 50. Посчитайте среднее для каждой выборки. Постройте гистограмму распределения средних.\n",
    "\n"
   ]
  },
  {
   "cell_type": "code",
   "execution_count": 24,
   "metadata": {},
   "outputs": [
    {
     "name": "stdout",
     "output_type": "stream",
     "text": [
      "[50 63 23 46 60 41 63 21 69 18 56 50 19 58 37 39 41 63 55 68]\n"
     ]
    }
   ],
   "source": [
    "discr = np.random.randint(15, 70, size = 20)\n",
    "print(discr)"
   ]
  },
  {
   "cell_type": "code",
   "execution_count": 25,
   "metadata": {},
   "outputs": [
    {
     "name": "stdout",
     "output_type": "stream",
     "text": [
      "[46.46, 49.66, 49.62, 47.02, 49.34, 48.9, 45.42, 49.96, 45.06, 48.24, 49.74, 48.82, 46.44, 45.54, 49.16, 41.38, 49.36, 48.92, 42.8, 44.06, 42.56, 46.98, 44.52, 47.86, 42.7, 46.64, 48.96, 48.24, 45.38, 47.7, 49.46, 47.62, 45.42, 46.66, 50.2, 45.96, 46.14, 47.68, 45.48, 49.16, 46.74, 44.24, 49.86, 42.64, 47.44, 42.92, 47.76, 50.12, 52.9, 48.98, 45.06, 47.88, 47.28, 44.24, 46.46, 46.48, 46.2, 45.56, 43.04, 48.4, 46.02, 46.54, 47.44, 49.32, 43.74, 51.04, 50.6, 46.28, 45.4, 51.08, 50.44, 44.58, 48.6, 48.88, 43.6, 43.84, 47.58, 45.56, 48.92, 46.9, 48.54, 46.42, 48.96, 51.3, 49.94, 46.6, 49.22, 50.86, 46.96, 48.54, 46.44, 44.48, 52.18, 49.34, 41.84, 47.12, 45.82, 49.52, 44.22, 46.6, 47.36, 45.72, 48.74, 44.52, 49.0, 46.3, 50.02, 46.52, 43.42, 48.3, 45.68, 47.18, 46.16, 46.54, 45.54, 44.04, 46.46, 45.98, 44.24, 45.62, 44.16, 46.0, 43.62, 43.12, 48.68, 46.32, 46.8, 46.18, 47.92, 49.26, 49.64, 47.94, 48.06, 44.78, 49.8, 47.86, 47.52, 50.4, 47.66, 46.84, 46.48, 38.88, 50.26, 47.62, 47.22, 45.36, 41.12, 47.48, 44.36, 48.22, 46.28, 44.9, 48.92, 50.42, 49.06, 47.54, 47.9, 47.92, 45.42, 48.52, 48.58, 46.82, 48.86, 50.04, 50.5, 41.24, 46.3, 48.48, 45.2, 41.48, 46.14, 43.28, 45.86, 52.7, 46.42, 50.26, 48.82, 47.74, 49.54, 46.88, 46.46, 46.86, 46.86, 49.38, 47.52, 43.52, 48.28, 47.28, 46.56, 50.2, 43.48, 45.84, 45.8, 43.06, 48.24, 47.38, 47.86, 47.72, 44.92, 52.12, 47.98, 46.06, 46.06, 48.8, 46.3, 46.58, 44.24, 50.44, 46.52, 45.22, 46.18, 41.92, 49.78, 46.24, 47.06, 50.52, 47.14, 43.1, 47.16, 47.44, 47.94, 49.1, 48.92, 48.3, 47.1, 45.1, 50.64, 45.3, 44.08, 49.42, 46.44, 45.78, 49.2, 44.92, 47.42, 47.88, 44.5, 48.14, 47.28, 46.08, 49.12, 46.32, 45.68, 45.88, 43.88, 46.1, 49.76, 48.86, 46.84, 47.88, 48.88, 46.86, 46.72, 48.18, 43.46, 48.72, 43.24, 46.12, 46.88, 47.28, 48.68, 45.34, 46.88, 45.92, 45.6, 46.28, 41.78, 41.8, 49.88, 50.4, 45.96, 45.84, 48.14, 43.44, 47.32, 48.06, 51.48, 47.96, 45.62, 49.54, 45.86, 43.92, 47.62, 50.3, 49.34, 46.56, 51.46, 47.58, 47.0, 49.04, 46.86, 43.58, 48.98, 44.54, 45.4, 45.06, 43.22, 46.18, 48.64, 46.26, 48.98, 47.84, 45.32, 44.7, 49.5, 45.34, 50.28, 51.3, 45.22, 49.6, 45.18, 47.24, 48.66, 41.74, 47.68, 49.66, 47.04, 44.36, 47.16, 50.34, 48.5, 44.96, 41.36, 45.54, 46.66, 47.92, 45.2, 44.9, 47.8, 46.26, 47.48, 44.66, 43.84, 45.64, 46.86, 45.48, 48.58, 49.94, 48.74, 44.06, 47.54, 45.46, 46.68, 45.22, 48.08, 48.24, 44.26, 45.14, 44.18, 47.38, 49.12, 48.18, 49.7, 50.66, 45.18, 44.0, 50.32, 46.12, 47.44, 47.92, 46.62, 50.74, 44.32, 45.04, 48.46, 46.36, 48.76, 49.58, 44.0, 47.16, 46.22, 46.92, 52.48, 47.96, 45.48, 51.56, 46.84, 46.3, 46.8, 45.96, 46.38, 46.78, 50.66, 49.92, 46.84, 46.86, 46.44, 45.42, 46.08, 44.8, 45.8, 41.7, 49.04, 46.44, 46.86, 53.16, 46.88, 45.68, 46.66, 47.88, 49.24, 44.56, 48.16, 50.8, 48.66, 47.08, 51.2, 48.34, 46.9, 48.48, 50.84, 46.7, 48.02, 45.56, 47.7, 50.62, 48.08, 46.72, 50.38, 44.58, 47.42, 49.8, 48.08, 48.96, 48.52, 42.68, 48.1, 45.46, 53.4, 48.96, 49.84, 48.28, 45.34, 46.98, 45.42, 48.84, 43.18, 49.7, 43.98, 41.9, 51.28, 46.3, 47.3, 40.36, 46.92, 48.3, 46.08, 48.28, 45.78, 46.24, 49.04, 49.64, 51.14, 48.88, 46.92, 51.14, 48.62, 48.0, 46.66, 45.98, 46.48, 42.66, 43.26, 48.7, 46.38, 46.72, 46.46, 45.46, 49.82, 49.42, 46.96, 42.98, 46.34, 46.66, 46.64, 48.34, 47.44, 49.92, 46.28, 47.74, 47.8, 44.38, 47.18, 49.44, 51.66, 48.98, 48.14, 47.08, 44.24, 49.78, 49.02, 46.4, 44.8, 45.74, 49.3, 45.12, 49.1, 45.68, 45.6, 50.18, 51.62, 40.86, 45.82, 47.94, 47.32, 46.06, 47.66, 49.68, 47.34, 42.1, 45.24, 43.66, 46.1, 47.96, 47.86, 44.76, 51.78, 45.42, 45.36, 47.92, 45.58, 42.9, 44.84, 46.02, 48.4, 47.58, 45.96, 50.5, 44.9, 46.4, 48.84, 42.92, 43.42, 45.06, 47.82, 48.5, 47.64, 48.18, 47.28, 47.62, 43.68, 47.22, 45.46, 49.02, 47.14, 47.78, 46.38, 47.86, 49.4, 46.46, 50.0, 48.84, 49.42, 46.56, 46.44, 45.8, 43.96, 50.74, 46.34, 45.62, 42.64, 46.82, 42.84, 42.7, 51.84, 48.84, 43.4, 43.34, 50.98, 49.84, 48.1, 49.94, 52.24, 43.48, 44.6, 44.36, 47.14, 46.54, 48.68, 43.28, 49.22, 46.88, 47.0, 46.98, 45.2, 46.44, 45.36, 45.22, 48.74, 45.7, 49.3, 44.72, 47.4, 47.32, 46.18, 51.54, 45.1, 48.06, 47.76, 45.84, 45.2, 45.1, 42.48, 46.16, 47.46, 47.76, 45.16, 47.6, 52.82, 44.62, 43.44, 46.6, 47.2, 45.48, 47.78, 42.36, 47.78, 50.68, 48.74, 46.06, 45.2, 43.58, 50.08, 49.3, 45.94, 46.92, 45.42, 48.04, 47.22, 49.08, 47.04, 49.76, 47.42, 49.22, 46.94, 47.68, 48.64, 44.06, 45.14, 45.74, 44.66, 44.4, 44.32, 41.88, 47.86, 44.32, 50.82, 43.58, 50.86, 49.68, 48.44, 45.0, 48.14, 46.12, 48.92, 48.54, 48.14, 43.96, 45.96, 45.9, 49.3, 42.02, 44.44, 43.6, 41.52, 45.98, 49.28, 49.12, 46.56, 46.56, 44.22, 45.58, 43.92, 49.02, 46.6, 49.9, 46.08, 49.26, 44.12, 42.98, 46.16, 51.4, 48.54, 47.56, 46.2, 46.52, 47.78, 47.66, 45.12, 49.98, 41.06, 43.9, 45.44, 46.24, 49.02, 44.32, 45.56, 45.46, 49.38, 47.34, 44.98, 48.08, 44.9, 46.9, 49.06, 44.82, 44.68, 41.0, 46.92, 48.14, 48.18, 47.46, 46.78, 46.64, 41.74, 50.26, 41.1, 51.2, 46.52, 47.78, 47.34, 43.54, 45.26, 47.84, 46.7, 46.32, 50.92, 50.3, 45.12, 46.38, 46.12, 50.0, 46.8, 43.92, 47.62, 46.92, 45.14, 44.46, 48.5, 46.06, 46.18, 46.18, 45.14, 49.48, 47.54, 43.98, 46.66, 50.54, 50.3, 47.08, 50.68, 48.62, 48.56, 42.88, 47.68, 50.24, 45.26, 44.8, 49.76, 49.36, 46.68, 52.06, 47.28, 48.34, 48.06, 45.84, 51.02, 48.64, 47.5, 46.86, 45.14, 42.4, 45.84, 51.26, 46.32, 45.72, 47.32, 46.98, 45.34, 47.46, 49.36, 43.64, 47.1, 50.26, 42.96, 49.58, 45.46, 45.72, 46.84, 47.2, 47.94, 44.7, 50.88, 44.3, 46.92, 47.84, 47.64, 49.8, 46.56, 48.44, 45.68, 45.74, 50.9, 48.36, 45.58, 47.06, 49.02, 48.76, 48.46, 43.1, 46.6, 46.56, 48.28, 47.48, 48.52, 49.84, 44.88, 46.02, 46.86, 44.44, 48.28, 49.68, 47.58, 45.76, 46.88, 45.14, 46.44, 47.24, 49.84, 47.98, 46.56, 46.42, 48.04, 47.02, 49.72, 44.94, 48.78, 44.5, 48.66, 49.98, 49.4, 45.32, 46.32, 48.98, 49.18, 43.02, 47.1, 43.84, 47.26, 46.12, 41.74, 46.18, 49.58, 42.14, 49.92, 47.62, 44.98, 43.12, 48.12, 46.6, 45.38, 48.56, 45.8, 48.86, 45.32, 51.6, 49.08, 46.02, 47.88, 47.44, 45.88, 51.56, 46.9, 49.08, 46.06, 47.22, 44.68, 47.64, 44.52, 46.2, 45.92, 44.76, 46.88, 46.82, 47.16, 47.58, 45.98, 45.78, 45.4, 46.8, 47.52, 44.36, 46.06, 44.3, 47.82, 43.84, 47.42, 47.5, 48.76, 43.82, 48.22, 45.9, 44.6, 51.38, 44.06, 45.82, 47.1, 48.36, 48.12, 43.82, 45.72, 49.74, 48.68, 49.56, 48.58, 44.26, 46.22, 45.84, 44.3, 45.88, 47.24, 46.02, 44.62, 48.28, 45.72, 45.84, 43.52, 46.08, 49.72, 46.24, 45.86, 45.34, 47.04, 49.18, 46.84, 44.0, 51.16, 47.86, 44.02, 44.26, 47.54, 48.32, 47.86, 46.36, 50.32, 47.06, 45.18, 49.5, 50.12, 50.12, 47.74, 46.82, 47.02, 47.9, 47.34, 48.68, 51.44, 45.3, 44.64, 46.32, 44.02, 50.16, 44.0, 45.98, 48.84, 44.58, 50.98, 45.68, 48.88, 46.38, 47.2, 44.38, 46.48, 47.84, 45.86, 46.3, 41.98, 47.36, 46.32, 51.28, 41.68, 47.54, 48.12, 44.9, 49.64, 46.72, 47.6, 42.2, 47.38, 48.44, 51.66, 50.12, 46.32, 46.44, 47.2, 46.98, 47.0, 45.2, 46.36, 50.4]\n"
     ]
    }
   ],
   "source": [
    "means = []\n",
    "for i in range(1000):\n",
    "    rand = np.random.choice(discr, size=50)\n",
    "    means.append(np.mean(rand))\n",
    "print(means)"
   ]
  },
  {
   "cell_type": "code",
   "execution_count": 26,
   "metadata": {},
   "outputs": [
    {
     "data": {
      "text/plain": [
       "<function matplotlib.pyplot.show(close=None, block=None)>"
      ]
     },
     "execution_count": 26,
     "metadata": {},
     "output_type": "execute_result"
    },
    {
     "data": {
      "image/png": "[encoded data removed]",
      "text/plain": [
       "<Figure size 432x288 with 1 Axes>"
      ]
     },
     "metadata": {
      "needs_background": "light"
     },
     "output_type": "display_data"
    }
   ],
   "source": [
    "plt.hist(means)\n",
    "plt.show"
   ]
  },
  {
   "cell_type": "markdown",
   "metadata": {},
   "source": [
    "### Задание 5\n",
    "Найдите собственные значения и собственные вектора матрицы (на python и на бумаге):\n"
   ]
  },
  {
   "cell_type": "code",
   "execution_count": 29,
   "metadata": {},
   "outputs": [
    {
     "name": "stdout",
     "output_type": "stream",
     "text": [
      "[[1 4]\n",
      " [1 1]]\n"
     ]
    }
   ],
   "source": [
    "m = np.array([[1, 4],\n",
    "              [1, 1]])\n",
    "print(m)"
   ]
  },
  {
   "cell_type": "code",
   "execution_count": 55,
   "metadata": {},
   "outputs": [
    {
     "name": "stdout",
     "output_type": "stream",
     "text": [
      "Eigenvalues:\n",
      "[ 3. -1.]\n",
      "\n",
      "Eigenvectors:\n",
      "[[ 0.89442719 -0.89442719]\n",
      " [ 0.4472136   0.4472136 ]]\n"
     ]
    }
   ],
   "source": [
    "a, U = np.linalg.eig(m)\n",
    "print('Eigenvalues:')\n",
    "print(np.array(a, dtype=float))\n",
    "print('\\nEigenvectors:')\n",
    "print(U)"
   ]
  },
  {
   "cell_type": "markdown",
   "metadata": {},
   "source": [
    "Собственные значения:\n",
    "\n",
    "|1-λ    4|    \n",
    "|1    1-λ| = 0  =>\n",
    "\n",
    "(1-\tλ)*(1- λ)-4 = 0  =>\n",
    "\n",
    "λ***2-2*λ-3 = 0\n",
    "\n",
    "Корни уравнения: 3, -1\n",
    "\n",
    "Собственные вектора находим из уравнений:\n",
    "\n",
    "-2x + 4y = 0          \n",
    "x - 2y = 0\n",
    "\n",
    "\n",
    "2x + 4y = 0      \n",
    "x + 2y = 0\n",
    "\n",
    "Вариант решения:         \n",
    "1, 0.5\n",
    "\n",
    "-1, 0.5"
   ]
  }
 ],
 "metadata": {
  "kernelspec": {
   "display_name": "Python 3",
   "language": "python",
   "name": "python3"
  },
  "language_info": {
   "codemirror_mode": {
    "name": "ipython",
    "version": 3
   },
   "file_extension": ".py",
   "mimetype": "text/x-python",
   "name": "python",
   "nbconvert_exporter": "python",
   "pygments_lexer": "ipython3",
   "version": "3.8.5"
  }
 },
 "nbformat": 4,
 "nbformat_minor": 4
}
