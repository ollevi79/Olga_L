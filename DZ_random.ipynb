{
 "cells": [
  {
   "cell_type": "markdown",
   "metadata": {},
   "source": [
    "Задание\n",
    "\n",
    "Смоделировать игру против лотерейного автомата типа “777”. \n",
    "Игрок платит 1 руб., после чего выпадает случайное целое число, равномерно распределенное от 0 до 999. \n",
    "При некоторых значениях числа игрок получает выигрыш (см. справа)\n",
    "\n",
    "Выгодна ли игра игроку?\n",
    "\n",
    "Сколько в среднем приобретает\n",
    "или теряет игрок за одну игру?\n",
    "\n",
    "777: 200 руб.\n",
    "999: 100 руб.\n",
    "555: 50 руб.\n",
    "333: 15 руб.\n",
    "111: 10 руб.\n",
    "*77: 5 руб.\n",
    "**7: 3 руб.\n",
    "*00: 2 руб.\n",
    "**0: 1 руб.\n",
    "\n",
    "* любая цифра"
   ]
  },
  {
   "cell_type": "code",
   "execution_count": 172,
   "metadata": {},
   "outputs": [],
   "source": [
    "import numpy as np"
   ]
  },
  {
   "cell_type": "code",
   "execution_count": 174,
   "metadata": {},
   "outputs": [
    {
     "name": "stdout",
     "output_type": "stream",
     "text": [
      "средний выигрыш (проигрыш):  -0.2 руб\n"
     ]
    }
   ],
   "source": [
    "# теоретический расчет среднего выигрыша(проигрыша)\n",
    "# Складываем суммы выигрыша, помноженные на возможное количество выпадений выигрышной комбинации, и делим на число всех комбинаций.\n",
    "# Отнимаем 1 руб, портаченный для начала игры\n",
    "print('средний выигрыш (проигрыш): ',round((200*1 + 100*1 + 50*1 + 15*1 + 10*1 + 5*9 + 3*91 + 2*10 + 1*90)/1000-1,2),'руб')"
   ]
  },
  {
   "cell_type": "code",
   "execution_count": 190,
   "metadata": {},
   "outputs": [
    {
     "name": "stdout",
     "output_type": "stream",
     "text": [
      "средний выигрыш (проигрыш):  -0.23 руб\n"
     ]
    }
   ],
   "source": [
    "# моделируем игру\n",
    "prize = 0\n",
    "trials = 10000\n",
    "trials_cost = trials # сумма, потраченная на игру\n",
    "for i in range(trials):\n",
    "    random_score = np.random.randint(0,999)\n",
    "    if random_score == 777: prize += 200 \n",
    "    elif random_score == 999: prize += 100\n",
    "    elif random_score == 555: prize += 50\n",
    "    elif random_score == 333: prize += 15\n",
    "    elif random_score == 111: prize += 10\n",
    "    elif str(random_score).endswith('77') == True: prize += 5\n",
    "    elif str(random_score).endswith('7') == True: prize += 3\n",
    "    elif random_score == 0 or random_score % 100 == 0: prize += 2\n",
    "    elif random_score % 10 == 0: prize += 1\n",
    "\n",
    "print('средний выигрыш (проигрыш): ', round((prize-trials_cost)/trials,2), 'руб')"
   ]
  },
  {
   "cell_type": "markdown",
   "metadata": {},
   "source": [
    "Вывод: игра не выгодна игроку"
   ]
  }
 ],
 "metadata": {
  "kernelspec": {
   "display_name": "Python 3",
   "language": "python",
   "name": "python3"
  },
  "language_info": {
   "codemirror_mode": {
    "name": "ipython",
    "version": 3
   },
   "file_extension": ".py",
   "mimetype": "text/x-python",
   "name": "python",
   "nbconvert_exporter": "python",
   "pygments_lexer": "ipython3",
   "version": "3.8.5"
  }
 },
 "nbformat": 4,
 "nbformat_minor": 4
}
