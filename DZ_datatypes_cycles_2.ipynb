{
 "cells": [
  {
   "cell_type": "code",
   "execution_count": 190,
   "metadata": {},
   "outputs": [
    {
     "name": "stdout",
     "output_type": "stream",
     "text": [
      "{98, 35, 15, 213, 54, 119}\n"
     ]
    }
   ],
   "source": [
    "ids = {'user1': [213, 213, 213, 15, 213], \n",
    "       'user2': [54, 54, 119, 119, 119], \n",
    "       'user3': [213, 98, 98, 35]}\n",
    "marks = []\n",
    "for value in ids.values():\n",
    "    for i in value:\n",
    "        marks.append(i)\n",
    "print(set(marks))"
   ]
  },
  {
   "cell_type": "code",
   "execution_count": 71,
   "metadata": {},
   "outputs": [
    {
     "name": "stdout",
     "output_type": "stream",
     "text": [
      "Поисковых запросов, содержащих  2 слов(а):  42.86%\n",
      "Поисковых запросов, содержащих  3 слов(а):  57.14%\n"
     ]
    }
   ],
   "source": [
    "queries = [\n",
    "    'смотреть сериалы онлайн',\n",
    "    'новости спорта',\n",
    "    'афиша кино',\n",
    "    'курс доллара',\n",
    "    'сериалы этим летом',\n",
    "    'курс по питону',\n",
    "    'сериалы про спорт',\n",
    "]\n",
    "words = []\n",
    "for line in queries:\n",
    "    words.append(int(len(line.split(' '))))\n",
    "min_w = min(words)\n",
    "max_w = max(words)\n",
    "for i in range(min_w, max_w + 1):\n",
    "    print('Поисковых запросов, содержащих ', i, 'слов(а): ','{:.2%}'.format(words.count(i) / len(words)))\n"
   ]
  },
  {
   "cell_type": "code",
   "execution_count": 218,
   "metadata": {},
   "outputs": [
    {
     "data": {
      "text/plain": [
       "{'adwords': {'ROI': 2.94, 'cost': 34, 'revenue': 35},\n",
       " 'facebook': {'ROI': -6.36, 'cost': 110, 'revenue': 103},\n",
       " 'twitter': {'ROI': -54.17, 'cost': 24, 'revenue': 11},\n",
       " 'vk': {'ROI': 5.1, 'cost': 98, 'revenue': 103},\n",
       " 'yandex': {'ROI': 16.99, 'cost': 153, 'revenue': 179}}"
      ]
     },
     "execution_count": 218,
     "metadata": {},
     "output_type": "execute_result"
    }
   ],
   "source": [
    "results = {\n",
    "    'vk': {'revenue': 103, 'cost': 98},\n",
    "    'yandex': {'revenue': 179, 'cost': 153},\n",
    "    'facebook': {'revenue': 103, 'cost': 110},\n",
    "    'adwords': {'revenue': 35, 'cost': 34},\n",
    "    'twitter': {'revenue': 11, 'cost': 24},\n",
    "}\n",
    "for key, res in results.items():\n",
    "       roi = (round((res['revenue'] / res['cost'] - 1) * 100, 2))\n",
    "       res['ROI'] = roi\n",
    "       results[key] = dict(sorted(res.items()))\n",
    "dict(sorted(results.items(), key = lambda kv: kv[0]))"
   ]
  },
  {
   "cell_type": "code",
   "execution_count": 219,
   "metadata": {},
   "outputs": [
    {
     "name": "stdout",
     "output_type": "stream",
     "text": [
      "Максимальный объем продаж на рекламном канале: vk\n"
     ]
    }
   ],
   "source": [
    "stats = {'facebook': 55, 'yandex': 115, 'vk': 120, 'google': 99, 'email': 42, 'ok': 98}\n",
    "max_sales = max(stats.values())\n",
    "for key, val in stats.items():\n",
    "    if val == max_sales:\n",
    "        print('Максимальный объем продаж на рекламном канале:',key)"
   ]
  },
  {
   "cell_type": "code",
   "execution_count": 187,
   "metadata": {},
   "outputs": [
    {
     "name": "stdout",
     "output_type": "stream",
     "text": [
      "{'2018-01-01': {'yandex': {'cpc': 100}}}\n"
     ]
    }
   ],
   "source": [
    "my_list = ['2018-01-01', 'yandex', 'cpc', 100]\n",
    "#my_list = ['a', 'b', 'c', 'd', 'e', 'f']\n",
    "l = len(my_list) - 1\n",
    "my_dict = {}\n",
    "my_dict[my_list[l - 1]] = my_list[l]\n",
    "i = l - 2\n",
    "if i<0: print(my_dict)\n",
    "else:\n",
    "    while i >= 0:\n",
    "        my_dict1 = {}\n",
    "        my_dict1[my_list[i]] = my_dict\n",
    "        my_dict = my_dict1.copy()\n",
    "        i -= 1\n",
    "    print(my_dict1)"
   ]
  },
  {
   "cell_type": "code",
   "execution_count": 225,
   "metadata": {},
   "outputs": [
    {
     "name": "stdout",
     "output_type": "stream",
     "text": [
      "Введите количество порций: 3\n",
      "Сыр: 210 гр\n",
      "Томаты: 6 шт\n",
      "Огурцы: 60 гр\n",
      "Маслины: 30 гр\n",
      "Оливковое Масло: 60 мл\n",
      "Салат: 30 гр\n",
      "Перец: 60 гр\n",
      "Колбаса: 90 гр\n",
      "Бекон: 90 гр\n",
      "Оливки: 30 гр\n",
      "Томаты: 60 гр\n",
      "Тесто: 300 гр\n",
      "Лимон: 3 шт\n",
      "Вода: 600 мл\n",
      "Сахар: 30 гр\n",
      "Лайм: 60 гр\n"
     ]
    }
   ],
   "source": [
    "cook_book = {\n",
    "  'салат': [\n",
    "     {'ingridient_name': 'сыр', 'quantity': 50, 'measure': 'гр'},\n",
    "     {'ingridient_name': 'томаты', 'quantity': 2, 'measure': 'шт'},\n",
    "     {'ingridient_name': 'огурцы', 'quantity': 20, 'measure': 'гр'},\n",
    "     {'ingridient_name': 'маслины', 'quantity': 10, 'measure': 'гр'},\n",
    "     {'ingridient_name': 'оливковое масло', 'quantity': 20, 'measure': 'мл'},\n",
    "     {'ingridient_name': 'салат', 'quantity': 10, 'measure': 'гр'},\n",
    "     {'ingridient_name': 'перец', 'quantity': 20, 'measure': 'гр'}\n",
    "    ],\n",
    "  'пицца': [\n",
    "     {'ingridient_name': 'сыр', 'quantity': 20, 'measure': 'гр'},\n",
    "     {'ingridient_name': 'колбаса', 'quantity': 30, 'measure': 'гр'},\n",
    "     {'ingridient_name': 'бекон', 'quantity': 30, 'measure': 'гр'},\n",
    "     {'ingridient_name': 'оливки', 'quantity': 10, 'measure': 'гр'},\n",
    "     {'ingridient_name': 'томаты', 'quantity': 20, 'measure': 'гр'},\n",
    "     {'ingridient_name': 'тесто', 'quantity': 100, 'measure': 'гр'},   \n",
    "    ],\n",
    "  'лимонад': [\n",
    "     {'ingridient_name': 'лимон', 'quantity': 1, 'measure': 'шт'},\n",
    "     {'ingridient_name': 'вода', 'quantity': 200, 'measure': 'мл'},\n",
    "     {'ingridient_name': 'сахар', 'quantity': 10, 'measure': 'гр'},\n",
    "     {'ingridient_name': 'лайм', 'quantity': 20, 'measure': 'гр'},    \n",
    "    ]\n",
    "}\n",
    "persons=int(input('Введите количество порций: '))\n",
    "ingr_book = {}\n",
    "for line in cook_book.values():\n",
    "        for i in line:\n",
    "            ingr, qty, meas = i['ingridient_name'], i['quantity'], i['measure']\n",
    "            concat = (ingr,meas)\n",
    "            if concat in ingr_book:\n",
    "                 ingr_book[concat] += qty              \n",
    "            else:\n",
    "                 ingr_book[concat] = qty\n",
    "for items, weight in ingr_book.items():\n",
    "      print(f'{items[0].title()}: {weight * persons} {items[1]}')    "
   ]
  }
 ],
 "metadata": {
  "kernelspec": {
   "display_name": "Python 3",
   "language": "python",
   "name": "python3"
  },
  "language_info": {
   "codemirror_mode": {
    "name": "ipython",
    "version": 3
   },
   "file_extension": ".py",
   "mimetype": "text/x-python",
   "name": "python",
   "nbconvert_exporter": "python",
   "pygments_lexer": "ipython3",
   "version": "3.8.5"
  }
 },
 "nbformat": 4,
 "nbformat_minor": 4
}
