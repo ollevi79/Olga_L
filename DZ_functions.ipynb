{
 "cells": [
  {
   "cell_type": "code",
   "execution_count": 51,
   "metadata": {},
   "outputs": [],
   "source": [
    "documents = [\n",
    " {'type': 'passport', 'number': '2207 876234', 'name': 'Василий Гупкин'},\n",
    " {'type': 'invoice', 'number': '11-2', 'name': 'Геннадий Покемонов'},\n",
    " {'type': 'insurance', 'number': '10006', 'name': 'Аристарх Павлов'}\n",
    "]\n",
    "directories = {\n",
    " '1': ['2207 876234', '11-2'],\n",
    " '2': ['10006'],\n",
    " '3': []\n",
    "}"
   ]
  },
  {
   "cell_type": "code",
   "execution_count": 37,
   "metadata": {},
   "outputs": [],
   "source": [
    "def p_get_owner(all_doc):\n",
    "    number = input('Введите номер документа:\\n')\n",
    "    res = (list(docs['name'] for docs in all_doc if docs['number'] == number))\n",
    "    if res == []: print('Документ не найден в базе')   \n",
    "    else: print(\"Владелец документа: \",str(res).strip(\"[]\").strip(\"''\"))"
   ]
  },
  {
   "cell_type": "code",
   "execution_count": 38,
   "metadata": {},
   "outputs": [],
   "source": [
    "def s_get_shelf(all_dic):\n",
    "    number=input('Введите номер документа:\\n')\n",
    "    res = list(shelf for shelf, docno in all_dic.items() if number in list(docno))\n",
    "    if res == []: print('Документ не найден в базе')   \n",
    "    else: print(\"Документ хранится на полке: \",str(res).strip(\"[]\").strip(\"''\"))"
   ]
  },
  {
   "cell_type": "code",
   "execution_count": 39,
   "metadata": {},
   "outputs": [],
   "source": [
    "def combine_info(all_dic, all_doc):\n",
    "    import copy\n",
    "    new_dir = {}\n",
    "    for shelf,docno in all_dic.items():\n",
    "        for i in range(len(docno)):\n",
    "            new_dir[docno[i]]=shelf\n",
    "    docs1=copy.deepcopy(all_doc)\n",
    "    for doc in docs1:\n",
    "          if doc['number'] in new_dir.keys():\n",
    "              doc['shelf']=new_dir[doc['number']]\n",
    "              print(f\"№: {doc['number']}, тип: {doc['type']}, владелец: {doc['name']}, полка хранения: {doc['shelf']}\")\n"
   ]
  },
  {
   "cell_type": "code",
   "execution_count": 40,
   "metadata": {},
   "outputs": [],
   "source": [
    "def list_shelves(all_dic):\n",
    "    list_dir = list(int(shelf) for shelf in all_dic.keys())\n",
    "    list_dir.sort()\n",
    "    return(str(list_dir).strip('[]'))  \n"
   ]
  },
  {
   "cell_type": "code",
   "execution_count": 48,
   "metadata": {},
   "outputs": [],
   "source": [
    "def ads_add_shelf(all_dic):\n",
    "    shelf = input('Введите номер полки:\\n')\n",
    "    if shelf in all_dic.keys():\n",
    "        print('Такая полка уже существует. Текущий перечень полок:', list_shelves(all_dic))\n",
    "    else: \n",
    "        directories[shelf]=[]\n",
    "        print('Полка добавлена. Текущий перечень полок: ', list_shelves(all_dic))\n"
   ]
  },
  {
   "cell_type": "code",
   "execution_count": 42,
   "metadata": {},
   "outputs": [],
   "source": [
    "def ds_del_shelf(all_dic):\n",
    "    shelf = input('Введите номер полки:\\n')\n",
    "    if shelf in all_dic.keys() and all_dic[shelf] == []:\n",
    "        del(all_dic[shelf])\n",
    "        print('Полка удалена. Текущий перечень полок:', list_shelves(all_dic))\n",
    "    elif shelf in all_dic.keys() and all_dic[shelf] != []:\n",
    "          print('На полке есть документы, удалите их перед удалением полки. Текущий перечень полок: ', list_shelves(all_dic))\n",
    "    else: print('Такой полки не существует. Текущий перечень полок: ', list_shelves(all_dic))\n"
   ]
  },
  {
   "cell_type": "code",
   "execution_count": 43,
   "metadata": {},
   "outputs": [],
   "source": [
    "def ad_add_doc(all_dic,all_doc):\n",
    "    typ = input('Введите тип документа:\\n')\n",
    "    num = input('Введите номер документа:\\n')\n",
    "    name = input('Введите владельца документа:\\n')\n",
    "    shelf = input('Введите полку:\\n')\n",
    "    if shelf in all_dic.keys():\n",
    "        new_doc = {'type':typ,'number':num,'name':name}\n",
    "        all_doc.append(new_doc)\n",
    "        all_dic[shelf].append(num)\n",
    "        print('Документ добавлен. Текущий список документов:')\n",
    "        combine_info(all_dic,all_doc)\n",
    "    else: \n",
    "        print('Такой полки не существует. Добавьте полку командой as. Текущий список документов:')\n",
    "        combine_info(all_dic,all_doc)\n"
   ]
  },
  {
   "cell_type": "code",
   "execution_count": 44,
   "metadata": {},
   "outputs": [],
   "source": [
    "def d_del_doc(all_dic,all_doc):\n",
    "    import copy\n",
    "    doc = input('Введите номер документа:\\n')\n",
    "    for doc_nums in all_dic.values():\n",
    "         if doc in doc_nums: doc_nums.remove(doc)\n",
    "            \n",
    "    res = list((i for i in range(len(all_doc)) if all_doc[i]['number'] == doc))\n",
    "    \n",
    "    if list(res) != []:\n",
    "          del(all_doc[res[0]])\n",
    "          print('Документ удален. Текущий список документов:')\n",
    "          combine_info(all_dic,all_doc)\n",
    "            \n",
    "    else: \n",
    "        print('Документ не найден в базе. Текущий список документов:')\n",
    "        combine_info(all_dic,all_doc)    \n"
   ]
  },
  {
   "cell_type": "code",
   "execution_count": 45,
   "metadata": {},
   "outputs": [],
   "source": [
    "def m_move_doc(all_dic,all_doc):\n",
    "    doc = input('Введите номер документа:\\n')\n",
    "    shelf = input('Введите номер полки:\\n')\n",
    "    \n",
    "    if shelf in all_dic.keys():\n",
    "         res = list(cur_shelf for cur_shelf, docno in all_dic.items() if doc in list(docno))\n",
    "         if res == []: \n",
    "                print('Документ не найден в базе. Текущий список документов:')\n",
    "                combine_info(all_dic,all_doc)    \n",
    "         else:\n",
    "                all_dic[res[0]].remove(doc)    \n",
    "                for shelf_nums, doc_nums in all_dic.items():\n",
    "                    if shelf_nums == shelf:\n",
    "                        doc_nums.append(doc)\n",
    "                        print('Документ перемещен. Текущий список документов:')\n",
    "                        combine_info(all_dic,all_doc)\n",
    "    else: print('Такой полки не существует. Текущий перечень полок: ', list_shelves(all_dic))"
   ]
  },
  {
   "cell_type": "code",
   "execution_count": 50,
   "metadata": {},
   "outputs": [
    {
     "name": "stdout",
     "output_type": "stream",
     "text": [
      "Введите команду:\n",
      "q\n"
     ]
    }
   ],
   "source": [
    "def main(all_dic,all_doc):\n",
    "    while True:\n",
    "        user_input = input('Введите команду:\\n')\n",
    "        if user_input == 'p':\n",
    "            p_get_owner(all_doc)\n",
    "        \n",
    "        elif user_input == 's':\n",
    "            s_get_shelf(all_dic)\n",
    "        \n",
    "        elif user_input == 'l':\n",
    "            combine_info(all_dic,all_doc)\n",
    "        \n",
    "        elif user_input == 'ads':\n",
    "            ads_add_shelf(all_dic)\n",
    "        \n",
    "        elif user_input == 'ds':\n",
    "            ds_del_shelf(all_dic)\n",
    "        \n",
    "        elif user_input == 'ad':\n",
    "            ad_add_doc(all_dic,all_doc)\n",
    "        \n",
    "        elif user_input == 'd':\n",
    "            d_del_doc(all_dic,all_doc)\n",
    "        \n",
    "        elif user_input == 'm':\n",
    "            m_move_doc(all_dic,all_doc)\n",
    "        \n",
    "        elif user_input == 'q':\n",
    "            break\n",
    "        else:\n",
    "            print('Команда не существует')\n",
    "\n",
    "main(directories,documents)"
   ]
  }
 ],
 "metadata": {
  "kernelspec": {
   "display_name": "Python 3",
   "language": "python",
   "name": "python3"
  },
  "language_info": {
   "codemirror_mode": {
    "name": "ipython",
    "version": 3
   },
   "file_extension": ".py",
   "mimetype": "text/x-python",
   "name": "python",
   "nbconvert_exporter": "python",
   "pygments_lexer": "ipython3",
   "version": "3.8.5"
  }
 },
 "nbformat": 4,
 "nbformat_minor": 4
}
