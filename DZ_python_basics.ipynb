{
 "cells": [
  {
   "cell_type": "code",
   "execution_count": 1,
   "metadata": {},
   "outputs": [
    {
     "name": "stdout",
     "output_type": "stream",
     "text": [
      "Фразы равной длины\n"
     ]
    }
   ],
   "source": [
    "phrase_1='fafiu'\n",
    "phrase_2='rtghg'\n",
    "if len(phrase_1)>len(phrase_2):\n",
    "    print('Фраза 1 длиннее фразы 2')\n",
    "elif len(phrase_1)<len(phrase_2):\n",
    "    print('Фраза 2 длиннее фразы 1')\n",
    "else: print('Фразы равной длины')"
   ]
  },
  {
   "cell_type": "code",
   "execution_count": 2,
   "metadata": {},
   "outputs": [
    {
     "name": "stdout",
     "output_type": "stream",
     "text": [
      "Високосный год\n"
     ]
    }
   ],
   "source": [
    "YEAR=2032\n",
    "if (YEAR % 4 == 0 and YEAR % 100 != 0) or YEAR % 400 == 0:\n",
    "    print('Високосный год')\n",
    "else: print('Обычный год')"
   ]
  },
  {
   "cell_type": "code",
   "execution_count": 3,
   "metadata": {},
   "outputs": [
    {
     "name": "stdout",
     "output_type": "stream",
     "text": [
      "Введите день: 16\n",
      "Введите название месяца: сентябрь\n",
      "Ваш знак зодиака: Дева\n"
     ]
    }
   ],
   "source": [
    "day=int(input('Введите день: '))\n",
    "monthinput=input('Введите название месяца: ')\n",
    "month=monthinput.lower()\n",
    "if (day>=21 and day<=31 and month==\"март\") or (day<=20 and month==\"апрель\"):\n",
    "    print('Ваш знак зодиака: Овен')\n",
    "elif (day>=21 and day<=30 and month==\"апрель\") or (day<=20 and month==\"май\"):\n",
    "    print('Ваш знак зодиака: Телец')\n",
    "elif (day>=21 and day<=31 and month==\"май\") or (day<=21 and month==\"июнь\"):\n",
    "    print('Ваш знак зодиака: Близнецы') \n",
    "elif (day>=22 and day<=30 and month==\"июнь\") or (day<=22 and month==\"июль\"):\n",
    "    print('Ваш знак зодиака: Рак')\n",
    "elif (day>=23 and day<=31 and month==\"июль\") or (day<=23 and month==\"август\"):\n",
    "    print('Ваш знак зодиака: Лев')\n",
    "elif (day>=24 and day<=31 and month==\"август\") or (day<=23 and month==\"сентябрь\"):\n",
    "    print('Ваш знак зодиака: Дева')\n",
    "elif (day>=24 and day<=30 and month==\"сентябрь\") or (day<=23 and month==\"октябрь\"):\n",
    "    print('Ваш знак зодиака: Весы')\n",
    "elif (day>=24 and day<=31 and month==\"октябрь\") or (day<=22 and month==\"ноябрь\"):\n",
    "    print('Ваш знак зодиака: Скорпион')\n",
    "elif (day>=23 and day<=30 and month==\"ноябрь\") or (day<=21 and month==\"декабрь\"):\n",
    "    print('Ваш знак зодиака: Стрелец')\n",
    "elif (day>=22 and day<=31 and month==\"декабрь\") or (day<=20 and month==\"январь\"):\n",
    "    print('Ваш знак зодиака: Козерог')\n",
    "elif (day>=21 and day<=31 and month==\"январь\") or (day<=20 and month==\"февраль\"):\n",
    "    print('Ваш знак зодиака: Водолей')\n",
    "elif (day>=21 and day<=29 and month==\"февраль\") or (day<=20 and month==\"март\"):\n",
    "    print('Ваш знак зодиака: Рыбы')\n",
    "else: print('Указанная дата не существует')   \n",
    "    "
   ]
  },
  {
   "cell_type": "code",
   "execution_count": 4,
   "metadata": {},
   "outputs": [
    {
     "name": "stdout",
     "output_type": "stream",
     "text": [
      "введите ширину товара в сантиметрах: 10\n",
      "введите длину товара в сантиметрах: 205\n",
      "введите высоту товара в сантиметрах: 40\n",
      "Упаковка для лыж\n"
     ]
    }
   ],
   "source": [
    "width=int(input('введите ширину товара в сантиметрах: '))\n",
    "length=int(input('введите длину товара в сантиметрах: '))\n",
    "height=int(input('введите высоту товара в сантиметрах: '))\n",
    "\n",
    "if width<15 and length<15 and height<15:\n",
    "    print('Коробка 1')\n",
    "elif length>200:\n",
    "    print('Упаковка для лыж')\n",
    "elif (width>=15 and width<50) or (length>=15 and length<50) or (height>=15 and height<50): \n",
    "    print('Коробка 2')\n",
    "else: print('Стандартная коробка 3')"
   ]
  },
  {
   "cell_type": "code",
   "execution_count": 5,
   "metadata": {},
   "outputs": [
    {
     "name": "stdout",
     "output_type": "stream",
     "text": [
      "Счастливый билет\n"
     ]
    }
   ],
   "source": [
    "ticket=987789\n",
    "ticket_s=str(ticket)\n",
    "mid=len(ticket_s)/2\n",
    "sum1=0\n",
    "sum2=0\n",
    "ticket_list=list(ticket_s)\n",
    "for i in range(len(ticket_list)):\n",
    "    if i<mid: sum1=sum1+int(ticket_list[i])\n",
    "    else: sum2=sum2+int(ticket_list[i])\n",
    "if sum1==sum2: \n",
    "    print('Счастливый билет')\n",
    "else: print('Несчастливый билет')"
   ]
  },
  {
   "cell_type": "code",
   "execution_count": 46,
   "metadata": {},
   "outputs": [
    {
     "name": "stdout",
     "output_type": "stream",
     "text": [
      "Введите тип фигуры (прямоугольник, треугольник или круг): круг\n",
      "Введите радиус: 5.6\n",
      "98.5203456165759\n"
     ]
    }
   ],
   "source": [
    "import math \n",
    "\n",
    "figureinput=input('Введите тип фигуры (прямоугольник, треугольник или круг): ')\n",
    "figure=figureinput.lower()\n",
    "\n",
    "if figure=='прямоугольник':\n",
    "    A=float(input('Введите длину стороны A: '))\n",
    "    B=float(input('Введите длину стороны B: '))\n",
    "    SQ=A*B\n",
    "    print(SQ)\n",
    "elif figure=='треугольник':\n",
    "    A=float(input('Введите длину стороны A: '))\n",
    "    B=float(input('Введите длину стороны B: '))\n",
    "    C=float(input('Введите длину стороны C: '))\n",
    "    p=(A+B+C)/2\n",
    "    SQ=math.sqrt(p*(p-A)*(p-B)*(p-C))\n",
    "    print(SQ)\n",
    "elif figure=='круг':\n",
    "    R=float(input('Введите радиус: '))\n",
    "    SQ=math.pi*R**2\n",
    "    print(SQ)\n",
    "else: print('Тип фигуры выбран неправильно')\n"
   ]
  },
  {
   "cell_type": "code",
   "execution_count": null,
   "metadata": {},
   "outputs": [],
   "source": []
  }
 ],
 "metadata": {
  "kernelspec": {
   "display_name": "Python 3",
   "language": "python",
   "name": "python3"
  },
  "language_info": {
   "codemirror_mode": {
    "name": "ipython",
    "version": 3
   },
   "file_extension": ".py",
   "mimetype": "text/x-python",
   "name": "python",
   "nbconvert_exporter": "python",
   "pygments_lexer": "ipython3",
   "version": "3.8.5"
  }
 },
 "nbformat": 4,
 "nbformat_minor": 4
}
