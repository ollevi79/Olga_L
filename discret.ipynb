{
 "cells": [
  {
   "cell_type": "markdown",
   "metadata": {},
   "source": [
    "Уровень 0:\n",
    "Задание 1:\n",
    "Монетку подбрасывают 15 раз, найдите вероятность выпадения простого числа орлов.\n"
   ]
  },
  {
   "cell_type": "code",
   "execution_count": 24,
   "metadata": {},
   "outputs": [],
   "source": [
    "import math\n",
    "\n",
    "def bernully(n,k,p):\n",
    "    return (math.factorial(n)/(math.factorial(k)*math.factorial(n-k)))*p**k*(1-p)**(n-k)\n"
   ]
  },
  {
   "cell_type": "code",
   "execution_count": 25,
   "metadata": {},
   "outputs": [
    {
     "name": "stdout",
     "output_type": "stream",
     "text": [
      "0.3499755859375\n"
     ]
    }
   ],
   "source": [
    "P = 0\n",
    "p = 0.5\n",
    "n = 15 \n",
    "for k in (2,3,5,7,11,13):\n",
    "    P += bernully(n,k,p)\n",
    "\n",
    "print(P)\n"
   ]
  },
  {
   "cell_type": "markdown",
   "metadata": {},
   "source": [
    "\n",
    "Задание 2:\n",
    "Создайте свою дискретную случайную величину с не менее, чем 10 значениями. Просемплируйте 1000 случайных значений, постройте гистограмму плотности распределения по выборке, посчитайте среднее, дисперсию и медиану.\n"
   ]
  },
  {
   "cell_type": "code",
   "execution_count": 27,
   "metadata": {},
   "outputs": [
    {
     "name": "stdout",
     "output_type": "stream",
     "text": [
      "[21 24 47 33 78 72 54 29 39 23]\n"
     ]
    }
   ],
   "source": [
    "import numpy as np\n",
    "discr = np.random.randint(17, 81, size = 10)\n",
    "print(discr)"
   ]
  },
  {
   "cell_type": "code",
   "execution_count": 28,
   "metadata": {},
   "outputs": [],
   "source": [
    "rand = np.random.choice(discr, size=1000)"
   ]
  },
  {
   "cell_type": "code",
   "execution_count": 29,
   "metadata": {},
   "outputs": [
    {
     "data": {
      "text/plain": [
       "<function matplotlib.pyplot.show(close=None, block=None)>"
      ]
     },
     "execution_count": 29,
     "metadata": {},
     "output_type": "execute_result"
    },
    {
     "data": {
      "image/png": "[encoded data removed]",
      "text/plain": [
       "<Figure size 432x288 with 1 Axes>"
      ]
     },
     "metadata": {
      "needs_background": "light"
     },
     "output_type": "display_data"
    }
   ],
   "source": [
    "import matplotlib.pyplot as plt\n",
    "plt.hist(rand)\n",
    "plt.show"
   ]
  },
  {
   "cell_type": "code",
   "execution_count": 31,
   "metadata": {},
   "outputs": [
    {
     "name": "stdout",
     "output_type": "stream",
     "text": [
      "42.146\n",
      "374.27468400000004\n",
      "39.0\n"
     ]
    }
   ],
   "source": [
    "print(np.mean(rand))\n",
    "print(np.var(rand))\n",
    "print(np.median(rand))"
   ]
  },
  {
   "cell_type": "markdown",
   "metadata": {},
   "source": [
    "\n",
    "Уровень 1:\n",
    "Задание 3:\n",
    "Пусть брошены 3 уравновешенные монеты.\n",
    "\n",
    "Рассмотрим 3 события:\n",
    "\n",
    "A1 - монеты 1 и 2 упали одной и той же стороной;\n",
    "\n",
    "A2 - монеты 2 и 3 упали одной и той же стороной;\n",
    "\n",
    "A3 - монеты 1 и 3 упали одной и той же стороной.\n",
    "\n",
    "Покажите, почему эти 3 события (A1, A2, A3) являются попарно независимыми, но не являются независимыми в совокупности.\n"
   ]
  },
  {
   "cell_type": "markdown",
   "metadata": {},
   "source": [
    "Вероятность A1 = 1/2\n",
    "Вероятность A2 = 1/2\n",
    "Вероятность A3 = 1/2\n",
    "\n",
    "Вероятность, что все 3 монеты упадут 1 стороной - 1/4\n",
    "\n",
    "Попарно A1A2, A1A3, A2A3 = 1/2*1/2 = 1/4\n",
    "Но A1A2A3 = 1/2*1/2*1/2 = 1/8 != 1/4, т.е. для совокупности условие не выполняется\n"
   ]
  },
  {
   "cell_type": "markdown",
   "metadata": {},
   "source": [
    "\n",
    "Задание 4 (формула полной вероятности):\n",
    "В магазин привезли устройства с 3-х разных предприятий.\n",
    "\n",
    "Соотношение устройств следующее: 20% - продукция первого предприятия, 30% - продукция второго предприятия, \n",
    "50% - продукция третьего предприятия; далее, 10% продукции первого предприятия высшего сорта, \n",
    "на втором предприятии - 5% и на третьем - 20% продукции высшего сорта.\n",
    "\n",
    "Найти вероятность того, что случайно купленная новая продукция окажется высшего сорта."
   ]
  },
  {
   "cell_type": "code",
   "execution_count": 36,
   "metadata": {},
   "outputs": [
    {
     "name": "stdout",
     "output_type": "stream",
     "text": [
      "Вероятность того, что случайно купленная новая продукция окажется высшего сорта: 0.135\n"
     ]
    }
   ],
   "source": [
    "#Обозначим:\n",
    "#Вероятность покупки продукции предприятий - вероятность событий A1,A2,A3. \n",
    "#Вероятность покупки продукции высшего сорта - вероятность события B при условии наступления событий A1,A2,A3.\n",
    "\n",
    "PA1 = 0.2\n",
    "PA2 = 0.3\n",
    "PA3 = 0.5\n",
    "\n",
    "PBA1 = 0.1\n",
    "PBA2 = 0.05\n",
    "PBA3 = 0.2\n",
    "\n",
    "\n",
    "print('В/ероятность того, что случайно купленная новая продукция окажется высшего сорта:',PA1*PBA1 + PA2*PBA2 + PA3*PBA3)\n"
   ]
  }
 ],
 "metadata": {
  "kernelspec": {
   "display_name": "Python 3",
   "language": "python",
   "name": "python3"
  },
  "language_info": {
   "codemirror_mode": {
    "name": "ipython",
    "version": 3
   },
   "file_extension": ".py",
   "mimetype": "text/x-python",
   "name": "python",
   "nbconvert_exporter": "python",
   "pygments_lexer": "ipython3",
   "version": "3.8.5"
  }
 },
 "nbformat": 4,
 "nbformat_minor": 4
}
